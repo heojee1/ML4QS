{
 "cells": [
  {
   "cell_type": "code",
   "execution_count": 1,
   "id": "ad937209",
   "metadata": {},
   "outputs": [],
   "source": [
    "import pandas as pd\n",
    "import numpy as np\n",
    "import matplotlib.pyplot as plt"
   ]
  },
  {
   "cell_type": "code",
   "execution_count": 50,
   "id": "22f8a5f5",
   "metadata": {},
   "outputs": [],
   "source": [
    "df_250 = pd.read_csv('/Users/jeewon/Desktop/me/Python3Code/results/aggregated_250.csv')\n",
    "\n",
    "df_350 = pd.read_csv('/Users/jeewon/Desktop/me/Python3Code/results/aggregated_350.csv')\n",
    "df_500 = pd.read_csv('/Users/jeewon/Desktop/me/Python3Code/results/aggregated_500.csv')\n",
    "\n",
    "df_600 = pd.read_csv('/Users/jeewon/Desktop/me/Python3Code/results/aggregated_600.csv')\n",
    "df_750 = pd.read_csv('/Users/jeewon/Desktop/me/Python3Code/results/aggregated_750.csv')\n",
    "\n",
    "df_1000 = pd.read_csv('/Users/jeewon/Desktop/me/Python3Code/results/aggregated_1000.csv')\n",
    "df_10000 = pd.read_csv('/Users/jeewon/Desktop/me/Python3Code/results/aggregated_10000.csv')\n",
    "df_60000 = pd.read_csv('/Users/jeewon/Desktop/me/Python3Code/results/aggregated_60000.csv')"
   ]
  },
  {
   "cell_type": "code",
   "execution_count": 51,
   "id": "bbe6c413",
   "metadata": {},
   "outputs": [
    {
     "data": {
      "text/plain": [
       "(5384, 26)"
      ]
     },
     "execution_count": 51,
     "metadata": {},
     "output_type": "execute_result"
    }
   ],
   "source": [
    "df_600.shape"
   ]
  },
  {
   "cell_type": "code",
   "execution_count": 49,
   "id": "5ddfb54b",
   "metadata": {},
   "outputs": [
    {
     "data": {
      "text/plain": [
       "5380.0"
      ]
     },
     "execution_count": 49,
     "metadata": {},
     "output_type": "execute_result"
    }
   ],
   "source": [
    "53.8 * 60 * 1000 / 600"
   ]
  },
  {
   "cell_type": "code",
   "execution_count": 36,
   "id": "5153cf75",
   "metadata": {},
   "outputs": [
    {
     "data": {
      "text/plain": [
       "(4308, 26)"
      ]
     },
     "execution_count": 36,
     "metadata": {},
     "output_type": "execute_result"
    }
   ],
   "source": [
    "df_750.shape"
   ]
  },
  {
   "cell_type": "code",
   "execution_count": 13,
   "id": "a9b901d4",
   "metadata": {},
   "outputs": [
    {
     "data": {
      "text/plain": [
       "(12922, 26)"
      ]
     },
     "execution_count": 13,
     "metadata": {},
     "output_type": "execute_result"
    }
   ],
   "source": [
    "df_250.shape"
   ]
  },
  {
   "cell_type": "code",
   "execution_count": 15,
   "id": "1967fa9b",
   "metadata": {},
   "outputs": [
    {
     "data": {
      "text/plain": [
       "(3231, 26)"
      ]
     },
     "execution_count": 15,
     "metadata": {},
     "output_type": "execute_result"
    }
   ],
   "source": [
    "df_1000.shape"
   ]
  },
  {
   "cell_type": "code",
   "execution_count": 16,
   "id": "6d8e2022",
   "metadata": {},
   "outputs": [
    {
     "data": {
      "text/plain": [
       "(324, 26)"
      ]
     },
     "execution_count": 16,
     "metadata": {},
     "output_type": "execute_result"
    }
   ],
   "source": [
    "df_10000.shape"
   ]
  },
  {
   "cell_type": "code",
   "execution_count": 14,
   "id": "7ef48717",
   "metadata": {
    "scrolled": true
   },
   "outputs": [
    {
     "data": {
      "text/plain": [
       "(54, 26)"
      ]
     },
     "execution_count": 14,
     "metadata": {},
     "output_type": "execute_result"
    }
   ],
   "source": [
    "df_60000.shape"
   ]
  },
  {
   "cell_type": "code",
   "execution_count": 19,
   "id": "3e1ccdad",
   "metadata": {},
   "outputs": [
    {
     "data": {
      "text/plain": [
       "(9230, 26)"
      ]
     },
     "execution_count": 19,
     "metadata": {},
     "output_type": "execute_result"
    }
   ],
   "source": [
    "df_350.shape"
   ]
  },
  {
   "cell_type": "code",
   "execution_count": 23,
   "id": "30cba178",
   "metadata": {},
   "outputs": [
    {
     "data": {
      "text/plain": [
       "Index(['Unnamed: 0', 'acc_x', 'acc_y', 'acc_z', 'gyr_x', 'gyr_y', 'gyr_z',\n",
       "       'lnac_x', 'lnac_y', 'lnac_z', 'mag_x', 'mag_y', 'mag_z', 'press_x',\n",
       "       'loc_latitude', 'loc_longitude', 'loc_height', 'loc_velocity',\n",
       "       'loc_direction', 'loc_horizontal', 'loc_vertical', 'labelTable',\n",
       "       'labelCycling', 'labelWalking', 'labelSitting', 'labelJogging'],\n",
       "      dtype='object')"
      ]
     },
     "execution_count": 23,
     "metadata": {},
     "output_type": "execute_result"
    }
   ],
   "source": [
    "df_250.columns"
   ]
  },
  {
   "cell_type": "code",
   "execution_count": 52,
   "id": "41038324",
   "metadata": {},
   "outputs": [
    {
     "data": {
      "text/plain": [
       "Unnamed: 0         0.000000\n",
       "acc_x              0.000000\n",
       "acc_y              0.000000\n",
       "acc_z              0.000000\n",
       "gyr_x              0.000000\n",
       "gyr_y              0.000000\n",
       "gyr_z              0.000000\n",
       "lnac_x             0.000000\n",
       "lnac_y             0.000000\n",
       "lnac_z             0.000000\n",
       "mag_x              0.000000\n",
       "mag_y              0.000000\n",
       "mag_z              0.000000\n",
       "press_x           44.372214\n",
       "loc_latitude      46.136701\n",
       "loc_longitude     46.136701\n",
       "loc_height        46.136701\n",
       "loc_velocity      46.136701\n",
       "loc_direction     46.136701\n",
       "loc_horizontal    46.136701\n",
       "loc_vertical      46.136701\n",
       "labelTable         0.000000\n",
       "labelCycling       0.000000\n",
       "labelWalking       0.000000\n",
       "labelSitting       0.000000\n",
       "labelJogging       0.000000\n",
       "dtype: float64"
      ]
     },
     "execution_count": 52,
     "metadata": {},
     "output_type": "execute_result"
    }
   ],
   "source": [
    "df_600.isnull().sum() / df_600.shape[0] * 100"
   ]
  },
  {
   "cell_type": "code",
   "execution_count": 38,
   "id": "d6983306",
   "metadata": {},
   "outputs": [
    {
     "data": {
      "text/plain": [
       "Unnamed: 0         0.000000\n",
       "acc_x              0.000000\n",
       "acc_y              0.000000\n",
       "acc_z              0.000000\n",
       "gyr_x              0.000000\n",
       "gyr_y              0.000000\n",
       "gyr_z              0.000000\n",
       "lnac_x             0.000000\n",
       "lnac_y             0.000000\n",
       "lnac_z             0.000000\n",
       "mag_x              0.000000\n",
       "mag_y              0.000000\n",
       "mag_z              0.000000\n",
       "press_x           30.547818\n",
       "loc_latitude      32.776230\n",
       "loc_longitude     32.776230\n",
       "loc_height        32.776230\n",
       "loc_velocity      32.776230\n",
       "loc_direction     32.776230\n",
       "loc_horizontal    32.776230\n",
       "loc_vertical      32.776230\n",
       "labelTable         0.000000\n",
       "labelCycling       0.000000\n",
       "labelWalking       0.000000\n",
       "labelSitting       0.000000\n",
       "labelJogging       0.000000\n",
       "dtype: float64"
      ]
     },
     "execution_count": 38,
     "metadata": {},
     "output_type": "execute_result"
    }
   ],
   "source": [
    "df_750.isnull().sum() / df_750.shape[0] * 100"
   ]
  },
  {
   "cell_type": "code",
   "execution_count": 40,
   "id": "b90c0209",
   "metadata": {
    "scrolled": true
   },
   "outputs": [
    {
     "data": {
      "text/plain": [
       "Unnamed: 0         0.000000\n",
       "acc_x              0.000000\n",
       "acc_y              0.000000\n",
       "acc_z              0.000000\n",
       "gyr_x              0.000000\n",
       "gyr_y              0.000000\n",
       "gyr_z              0.000000\n",
       "lnac_x             0.000000\n",
       "lnac_y             0.000000\n",
       "lnac_z             0.000000\n",
       "mag_x              0.000000\n",
       "mag_y              0.000000\n",
       "mag_z              0.000000\n",
       "press_x           53.629469\n",
       "loc_latitude      55.084352\n",
       "loc_longitude     55.084352\n",
       "loc_height        55.084352\n",
       "loc_velocity      55.084352\n",
       "loc_direction     55.084352\n",
       "loc_horizontal    55.084352\n",
       "loc_vertical      55.084352\n",
       "labelTable         0.000000\n",
       "labelCycling       0.000000\n",
       "labelWalking       0.000000\n",
       "labelSitting       0.000000\n",
       "labelJogging       0.000000\n",
       "dtype: float64"
      ]
     },
     "execution_count": 40,
     "metadata": {},
     "output_type": "execute_result"
    }
   ],
   "source": [
    "df_500.isnull().sum() / df_500.shape[0] * 100"
   ]
  },
  {
   "cell_type": "code",
   "execution_count": 17,
   "id": "5b4d3c89",
   "metadata": {
    "scrolled": true
   },
   "outputs": [
    {
     "data": {
      "text/plain": [
       "Unnamed: 0         0.000000\n",
       "acc_x              0.000000\n",
       "acc_y              0.000000\n",
       "acc_z              0.000000\n",
       "gyr_x              0.000000\n",
       "gyr_y              0.000000\n",
       "gyr_z              0.000000\n",
       "lnac_x             0.000000\n",
       "lnac_y             0.000000\n",
       "lnac_z             0.000000\n",
       "mag_x              0.000000\n",
       "mag_y              0.000000\n",
       "mag_z              0.000000\n",
       "press_x            7.397091\n",
       "loc_latitude      10.523058\n",
       "loc_longitude     10.523058\n",
       "loc_height        10.523058\n",
       "loc_velocity      10.523058\n",
       "loc_direction     10.523058\n",
       "loc_horizontal    10.523058\n",
       "loc_vertical      10.523058\n",
       "labelTable         0.000000\n",
       "labelCycling       0.000000\n",
       "labelWalking       0.000000\n",
       "labelSitting       0.000000\n",
       "labelJogging       0.000000\n",
       "dtype: float64"
      ]
     },
     "execution_count": 17,
     "metadata": {},
     "output_type": "execute_result"
    }
   ],
   "source": [
    "df_1000.isnull().sum() / df_1000.shape[0] * 100"
   ]
  },
  {
   "cell_type": "code",
   "execution_count": 11,
   "id": "d10aaff7",
   "metadata": {},
   "outputs": [
    {
     "data": {
      "text/plain": [
       "Unnamed: 0         0.00000\n",
       "acc_x              0.00000\n",
       "acc_y              0.00000\n",
       "acc_z              0.00000\n",
       "gyr_x              0.00000\n",
       "gyr_y              0.00000\n",
       "gyr_z              0.00000\n",
       "lnac_x             0.00000\n",
       "lnac_y             0.00000\n",
       "lnac_z             0.00000\n",
       "mag_x              0.00000\n",
       "mag_y              0.00000\n",
       "mag_z              0.00000\n",
       "press_x           76.78378\n",
       "loc_latitude      77.51896\n",
       "loc_longitude     77.51896\n",
       "loc_height        77.51896\n",
       "loc_velocity      77.51896\n",
       "loc_direction     77.51896\n",
       "loc_horizontal    77.51896\n",
       "loc_vertical      77.51896\n",
       "labelTable         0.00000\n",
       "labelCycling       0.00000\n",
       "labelWalking       0.00000\n",
       "labelSitting       0.00000\n",
       "labelJogging       0.00000\n",
       "dtype: float64"
      ]
     },
     "execution_count": 11,
     "metadata": {},
     "output_type": "execute_result"
    }
   ],
   "source": [
    "df_250.isnull().sum() / df_250.shape[0] * 100"
   ]
  },
  {
   "cell_type": "code",
   "execution_count": 10,
   "id": "39d39ff3",
   "metadata": {},
   "outputs": [
    {
     "data": {
      "text/plain": [
       "Unnamed: 0        0.0\n",
       "acc_x             0.0\n",
       "acc_y             0.0\n",
       "acc_z             0.0\n",
       "gyr_x             0.0\n",
       "gyr_y             0.0\n",
       "gyr_z             0.0\n",
       "lnac_x            0.0\n",
       "lnac_y            0.0\n",
       "lnac_z            0.0\n",
       "mag_x             0.0\n",
       "mag_y             0.0\n",
       "mag_z             0.0\n",
       "press_x           0.0\n",
       "loc_latitude      0.0\n",
       "loc_longitude     0.0\n",
       "loc_height        0.0\n",
       "loc_velocity      0.0\n",
       "loc_direction     0.0\n",
       "loc_horizontal    0.0\n",
       "loc_vertical      0.0\n",
       "labelTable        0.0\n",
       "labelCycling      0.0\n",
       "labelWalking      0.0\n",
       "labelSitting      0.0\n",
       "labelJogging      0.0\n",
       "dtype: float64"
      ]
     },
     "execution_count": 10,
     "metadata": {},
     "output_type": "execute_result"
    }
   ],
   "source": [
    "df_60000.isnull().sum() / df_60000.shape[0]"
   ]
  },
  {
   "cell_type": "code",
   "execution_count": null,
   "id": "3df7dfd0",
   "metadata": {},
   "outputs": [],
   "source": []
  }
 ],
 "metadata": {
  "kernelspec": {
   "display_name": "Python 3 (ipykernel)",
   "language": "python",
   "name": "python3"
  },
  "language_info": {
   "codemirror_mode": {
    "name": "ipython",
    "version": 3
   },
   "file_extension": ".py",
   "mimetype": "text/x-python",
   "name": "python",
   "nbconvert_exporter": "python",
   "pygments_lexer": "ipython3",
   "version": "3.9.6"
  }
 },
 "nbformat": 4,
 "nbformat_minor": 5
}
